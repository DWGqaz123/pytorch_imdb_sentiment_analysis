{
 "cells": [
  {
   "cell_type": "markdown",
   "metadata": {},
   "source": [
    "# 基于PyTorch的transformer情感分析项目"
   ]
  },
  {
   "cell_type": "markdown",
   "metadata": {},
   "source": [
    "### 验证版本"
   ]
  },
  {
   "cell_type": "code",
   "execution_count": 1,
   "metadata": {},
   "outputs": [
    {
     "name": "stdout",
     "output_type": "stream",
     "text": [
      "Torch: 2.7.0\n",
      "Transformers: 4.40.0\n",
      "MPS available: True\n"
     ]
    }
   ],
   "source": [
    "import torch\n",
    "import transformers\n",
    "\n",
    "print(\"Torch:\", torch.__version__)\n",
    "print(\"Transformers:\", transformers.__version__)\n",
    "print(\"MPS available:\", torch.backends.mps.is_available())"
   ]
  },
  {
   "cell_type": "markdown",
   "metadata": {},
   "source": [
    "### -------------------------------------------------------------\n",
    "### 阶段一：导入库和工具函数\n",
    "### -------------------------------------------------------------"
   ]
  },
  {
   "cell_type": "code",
   "execution_count": 2,
   "metadata": {},
   "outputs": [],
   "source": [
    "# 1. 导入必要的库\n",
    "import torch\n",
    "import torch.nn as nn\n",
    "import torch.optim as optim\n",
    "from torch.utils.data import DataLoader, Dataset\n",
    "# from collections import Counter # 不再需要\n",
    "import matplotlib.pyplot as plt\n",
    "import numpy as np\n",
    "import os # 用于文件路径操作\n",
    "\n",
    "# Hugging Face Transformers 库\n",
    "from transformers import BertTokenizer, BertForSequenceClassification, AdamW\n",
    "from transformers import get_scheduler\n",
    "\n",
    "# 导入之前的通用工具函数\n",
    "import sys\n",
    "# 假设 Notebook 路径是 pytorch_imdb_sentiment_analysis/notebooks/\n",
    "# 所以回到项目根目录是 '..'\n",
    "sys.path.append('..') \n",
    "from utils.train_eval_utils import set_seed\n",
    "# 不需要直接导入 train_model, evaluate_model, save_model, load_model，因为我们将在Notebook中直接编写训练评估循环。\n",
    "# 这样更灵活，避免 train_eval_utils.py 依赖HuggingFace的特定输出格式。\n",
    "\n",
    "# 导入文本预处理工具\n",
    "from utils.text_preprocessing import load_imdb_data, clean_text # 导入这两个函数"
   ]
  },
  {
   "cell_type": "code",
   "execution_count": 3,
   "metadata": {},
   "outputs": [
    {
     "name": "stdout",
     "output_type": "stream",
     "text": [
      "Using MPS device for training.\n",
      "Random seed set to 66\n"
     ]
    }
   ],
   "source": [
    "# 2. 设备设置\n",
    "if torch.backends.mps.is_available():\n",
    "    device = torch.device(\"mps\")\n",
    "    print(\"Using MPS device for training.\")\n",
    "else:\n",
    "    device = torch.device(\"cpu\")\n",
    "    print(\"MPS device not available, using CPU for training.\")\n",
    "\n",
    "# 3. 设置随机种子\n",
    "SEED = 66\n",
    "set_seed(SEED)"
   ]
  },
  {
   "cell_type": "markdown",
   "metadata": {},
   "source": [
    "### -------------------------------------------------------------\n",
    "### 阶段二：构建数据集和加载数据\n",
    "### -------------------------------------------------------------"
   ]
  },
  {
   "cell_type": "code",
   "execution_count": 4,
   "metadata": {},
   "outputs": [
    {
     "name": "stdout",
     "output_type": "stream",
     "text": [
      "Loading real IMDB training data...\n",
      "Cleaning training data (this may take a moment)...\n",
      "Loading real IMDB testing data...\n",
      "Cleaning testing data (this may take a moment)...\n",
      "Loaded 25000 training samples.\n",
      "Loaded 25000 testing samples.\n",
      "Example cleaned positive review (first 100 chars): for a movie that gets no respect there sure are a lot of memorable quotes listed for this gem imagin...\n",
      "Example cleaned negative review (first 100 chars): working with one of the best shakespeare sources this film manages to be creditable to its source wh...\n"
     ]
    },
    {
     "name": "stderr",
     "output_type": "stream",
     "text": [
      "/opt/miniconda3/envs/pytorch_env_1/lib/python3.10/site-packages/huggingface_hub/file_download.py:943: FutureWarning: `resume_download` is deprecated and will be removed in version 1.0.0. Downloads always resume when possible. If you want to force a new download, use `force_download=True`.\n",
      "  warnings.warn(\n"
     ]
    },
    {
     "name": "stdout",
     "output_type": "stream",
     "text": [
      "\n",
      "Created 25000 training dataset samples.\n",
      "Created 25000 testing dataset samples.\n",
      "\n",
      "Input IDs batch shape: torch.Size([16, 256])\n",
      "Attention Mask batch shape: torch.Size([16, 256])\n",
      "Labels batch shape: torch.Size([16])\n",
      "\n",
      "Original text (first sample, truncated to 100 chars): for a movie that gets no respect there sure are a lot of memorable quotes listed for this gem imagin...\n",
      "Decoded text (first sample, first 10 tokens): [CLS] dietrich bonhoeffers writings have had a\n"
     ]
    }
   ],
   "source": [
    "# 4. 文本数据加载与预处理 (使用真实的 IMDB 数据集，手动加载和清洗)\n",
    "\n",
    "# 定义 IMDB 数据集路径\n",
    "# ***重要：请确保你已经手动下载并解压 IMDB 数据集到这个路径下***\n",
    "# 下载链接：http://ai.stanford.edu/~amaas/data/sentiment/aclImdb_v1.tar.gz\n",
    "# 解压后，你的 data/ 目录下应该有 aclImdb/ 文件夹\n",
    "IMDB_ROOT_DIR = '../data/aclImdb' # 确保你的 aclImdb 文件夹在这个路径下\n",
    "\n",
    "# 加载真实的 IMDB 训练数据\n",
    "print(\"Loading real IMDB training data...\")\n",
    "# train/pos 和 train/neg 才是实际数据\n",
    "raw_train_data = load_imdb_data(os.path.join(IMDB_ROOT_DIR, 'train')) \n",
    "print(\"Cleaning training data (this may take a moment)...\")\n",
    "cleaned_train_data = []\n",
    "for label, text in raw_train_data:\n",
    "    cleaned_train_data.append((label, clean_text(text)))\n",
    "\n",
    "# 加载真实的 IMDB 测试数据\n",
    "print(\"Loading real IMDB testing data...\")\n",
    "# test/pos 和 test/neg 才是实际数据\n",
    "raw_test_data = load_imdb_data(os.path.join(IMDB_ROOT_DIR, 'test'))\n",
    "print(\"Cleaning testing data (this may take a moment)...\")\n",
    "cleaned_test_data = []\n",
    "for label, text in raw_test_data:\n",
    "    cleaned_test_data.append((label, clean_text(text)))\n",
    "\n",
    "# 打印加载的数据量，确认是否正确\n",
    "print(f\"Loaded {len(cleaned_train_data)} training samples.\")\n",
    "print(f\"Loaded {len(cleaned_test_data)} testing samples.\")\n",
    "print(f\"Example cleaned positive review (first 100 chars): {cleaned_train_data[0][1][:100]}...\")\n",
    "print(f\"Example cleaned negative review (first 100 chars): {cleaned_train_data[len(cleaned_train_data)//2][1][:100]}...\") # 打印一个负面评论示例\n",
    "\n",
    "# 定义自定义 Dataset 类，用于将加载的 (label, text) 对转换为 BERT 输入\n",
    "class IMDBDatasetWithBERT(Dataset):\n",
    "    def __init__(self, data, tokenizer, max_len): # 接收已加载和清洗后的数据\n",
    "        self.tokenizer = tokenizer\n",
    "        self.max_len = max_len\n",
    "        self.texts = [item[1] for item in data]\n",
    "        self.labels = [item[0] for item in data] # 标签已经是0或1\n",
    "\n",
    "    def __len__(self):\n",
    "        return len(self.texts)\n",
    "\n",
    "    def __getitem__(self, idx):\n",
    "        text = str(self.texts[idx])\n",
    "        label = self.labels[idx]\n",
    "\n",
    "# 使用 BERT 分词器进行编码\n",
    "        encoding = self.tokenizer.encode_plus(\n",
    "            text,\n",
    "            add_special_tokens=True,\n",
    "            max_length=self.max_len,\n",
    "            return_token_type_ids=False,\n",
    "            padding='max_length', \n",
    "            return_attention_mask=True,\n",
    "            return_tensors='pt',\n",
    "            truncation=True\n",
    "        )\n",
    "        \n",
    "        return {\n",
    "            'input_ids': encoding['input_ids'].flatten(),\n",
    "            'attention_mask': encoding['attention_mask'].flatten(),\n",
    "            'labels': torch.tensor(label, dtype=torch.long)\n",
    "        }\n",
    "    # 返回模型输入格式\n",
    "# 加载预训练的 BERT tokenizer，12 层 Transformer，768 hidden size，12 attention heads；不区分大小写\n",
    "tokenizer = BertTokenizer.from_pretrained('bert-base-uncased')\n",
    "\n",
    "# 定义最大序列长度 (BERT 通常限制为 512)\n",
    "MAX_LEN = 256 # 对于电影评论，256 可能更合理，确保能捕捉更多信息。可根据内存调整\n",
    "\n",
    "# 创建数据集实例 (使用清洗后的真实数据)\n",
    "train_dataset = IMDBDatasetWithBERT(cleaned_train_data, tokenizer, MAX_LEN)\n",
    "test_dataset = IMDBDatasetWithBERT(cleaned_test_data, tokenizer, MAX_LEN)\n",
    "\n",
    "print(f\"\\nCreated {len(train_dataset)} training dataset samples.\")\n",
    "print(f\"Created {len(test_dataset)} testing dataset samples.\")\n",
    "\n",
    "# 创建 DataLoader\n",
    "batch_size = 16 # BERT 通常使用 16 或 32 的批次大小，因为模型较大\n",
    "train_dataloader = DataLoader(train_dataset, batch_size=batch_size, shuffle=True, num_workers=0)\n",
    "test_dataloader = DataLoader(test_dataset, batch_size=batch_size, shuffle=False, num_workers=0)\n",
    "\n",
    "# 示例：获取一个批次数据\n",
    "for batch in train_dataloader:\n",
    "    input_ids = batch['input_ids']\n",
    "    attention_mask = batch['attention_mask']\n",
    "    labels = batch['labels']\n",
    "\n",
    "    print(f\"\\nInput IDs batch shape: {input_ids.shape}\")\n",
    "    print(f\"Attention Mask batch shape: {attention_mask.shape}\")\n",
    "    print(f\"Labels batch shape: {labels.shape}\")\n",
    "\n",
    "    # 打印第一个样本的解码文本 (只解码前一部分，因为MAX_LEN可能很长)\n",
    "    print(f\"\\nOriginal text (first sample, truncated to 100 chars): {cleaned_train_data[batch['labels'][0]][1][:100]}...\") # 对应原始加载的文本\n",
    "    print(f\"Decoded text (first sample, first 10 tokens): {tokenizer.decode(input_ids[0, :10])}\")\n",
    "    break"
   ]
  },
  {
   "cell_type": "markdown",
   "metadata": {},
   "source": [
    "\n",
    "### -------------------------------------------------------------\n",
    "### 阶段三：构建和微调 Transformer 模型 (BertForSequenceClassification)\n",
    "### -------------------------------------------------------------"
   ]
  },
  {
   "cell_type": "code",
   "execution_count": 5,
   "metadata": {},
   "outputs": [
    {
     "name": "stderr",
     "output_type": "stream",
     "text": [
      "/opt/miniconda3/envs/pytorch_env_1/lib/python3.10/site-packages/huggingface_hub/file_download.py:943: FutureWarning: `resume_download` is deprecated and will be removed in version 1.0.0. Downloads always resume when possible. If you want to force a new download, use `force_download=True`.\n",
      "  warnings.warn(\n"
     ]
    },
    {
     "data": {
      "application/vnd.jupyter.widget-view+json": {
       "model_id": "767b82d48ccd424c8a5bb7dd9055ae49",
       "version_major": 2,
       "version_minor": 0
      },
      "text/plain": [
       "model.safetensors:   0%|          | 0.00/440M [00:00<?, ?B/s]"
      ]
     },
     "metadata": {},
     "output_type": "display_data"
    },
    {
     "name": "stderr",
     "output_type": "stream",
     "text": [
      "Some weights of BertForSequenceClassification were not initialized from the model checkpoint at bert-base-uncased and are newly initialized: ['classifier.bias', 'classifier.weight']\n",
      "You should probably TRAIN this model on a down-stream task to be able to use it for predictions and inference.\n"
     ]
    },
    {
     "name": "stdout",
     "output_type": "stream",
     "text": [
      "\n",
      "BERT Model Structure (truncated for brevity):\n",
      "BertEmbeddings(\n",
      "  (word_embeddings): Embedding(30522, 768, padding_idx=0)\n",
      "  (position_embeddings): Embedding(512, 768)\n",
      "  (token_type_embeddings): Embedding(2, 768)\n",
      "  (LayerNorm): LayerNorm((768,), eps=1e-12, elementwise_affine=True)\n",
      "  (dropout): Dropout(p=0.1, inplace=False)\n",
      ")\n",
      "Linear(in_features=768, out_features=2, bias=True)\n"
     ]
    },
    {
     "name": "stderr",
     "output_type": "stream",
     "text": [
      "/opt/miniconda3/envs/pytorch_env_1/lib/python3.10/site-packages/transformers/optimization.py:521: FutureWarning: This implementation of AdamW is deprecated and will be removed in a future version. Use the PyTorch implementation torch.optim.AdamW instead, or set `no_deprecation_warning=True` to disable this warning\n",
      "  warnings.warn(\n"
     ]
    }
   ],
   "source": [
    "# 1. 模型实例化\n",
    "# num_labels 应该与你的分类任务的类别数匹配 (IMDB是二分类: 正面/负面)\n",
    "model = BertForSequenceClassification.from_pretrained('bert-base-uncased', num_labels=2)\n",
    "model = model.to(device)\n",
    "\n",
    "print(\"\\nBERT Model Structure (truncated for brevity):\")\n",
    "# 由于BERT模型结构非常复杂，这里只打印其顶部几层\n",
    "print(model.bert.embeddings)\n",
    "print(model.classifier)\n",
    "\n",
    "\n",
    "# 2. 定义优化器和学习率调度器\n",
    "# AdamW 是针对 Transformer 模型推荐的优化器，它修正了 Adam 中的权重衰减\n",
    "optimizer = AdamW(model.parameters(), lr=1e-5) # 预训练模型微调的推荐学习率通常在 1e-5 到 5e-5 之间\n",
    "\n",
    "# 学习率调度器 (Hugging Face 提供了专为 Transformer 设计的调度器)\n",
    "# Get the number of training steps\n",
    "total_steps = len(train_dataloader) * 3 # 假设我们先训练 3 个 Epoch\n",
    "warmup_steps = 0 # 可以设置一个预热步数，让学习率从0开始逐渐上升\n",
    "scheduler = get_scheduler(\n",
    "    \"linear\", # 或 \"cosine\"\n",
    "    optimizer=optimizer,\n",
    "    num_warmup_steps=warmup_steps,\n",
    "    num_training_steps=total_steps\n",
    ")"
   ]
  },
  {
   "cell_type": "markdown",
   "metadata": {},
   "source": [
    "### -------------------------------------------------------------\n",
    "### 阶段四：训练循环 (需要适配 Hugging Face 模型输出)\n",
    "### -------------------------------------------------------------\n",
    "\n",
    "### 这里我们将直接在 Notebook 中编写训练和评估循环，因为需要适配 Hugging Face 模型的特殊输出。\n",
    "### 以后可以考虑将其封装到 train_eval_utils.py 中，但现在直接写更清晰。"
   ]
  },
  {
   "cell_type": "code",
   "execution_count": 6,
   "metadata": {},
   "outputs": [
    {
     "name": "stdout",
     "output_type": "stream",
     "text": [
      "\n",
      "--- Starting BERT Fine-tuning ---\n",
      "  Epoch 1, Batch 0/1563, Loss: 0.7480\n",
      "  Epoch 1, Batch 100/1563, Loss: 0.2745\n",
      "  Epoch 1, Batch 200/1563, Loss: 0.2554\n",
      "  Epoch 1, Batch 300/1563, Loss: 0.3306\n",
      "  Epoch 1, Batch 400/1563, Loss: 0.2770\n",
      "  Epoch 1, Batch 500/1563, Loss: 0.2149\n",
      "  Epoch 1, Batch 600/1563, Loss: 0.6557\n",
      "  Epoch 1, Batch 700/1563, Loss: 0.1569\n",
      "  Epoch 1, Batch 800/1563, Loss: 0.1047\n",
      "  Epoch 1, Batch 900/1563, Loss: 0.3467\n",
      "  Epoch 1, Batch 1000/1563, Loss: 0.6313\n",
      "  Epoch 1, Batch 1100/1563, Loss: 0.2793\n",
      "  Epoch 1, Batch 1200/1563, Loss: 0.3797\n",
      "  Epoch 1, Batch 1300/1563, Loss: 0.1983\n",
      "  Epoch 1, Batch 1400/1563, Loss: 0.2359\n",
      "  Epoch 1, Batch 1500/1563, Loss: 0.1820\n",
      "Epoch 1 completed. Avg Train Loss: 0.2700, Train Acc: 88.69%\n",
      "  Epoch 2, Batch 0/1563, Loss: 0.0948\n",
      "  Epoch 2, Batch 100/1563, Loss: 0.1315\n",
      "  Epoch 2, Batch 200/1563, Loss: 0.0611\n",
      "  Epoch 2, Batch 300/1563, Loss: 0.1016\n",
      "  Epoch 2, Batch 400/1563, Loss: 0.0585\n",
      "  Epoch 2, Batch 500/1563, Loss: 0.0655\n",
      "  Epoch 2, Batch 600/1563, Loss: 0.2024\n",
      "  Epoch 2, Batch 700/1563, Loss: 0.0601\n",
      "  Epoch 2, Batch 800/1563, Loss: 0.3480\n",
      "  Epoch 2, Batch 900/1563, Loss: 0.2039\n",
      "  Epoch 2, Batch 1000/1563, Loss: 0.5210\n",
      "  Epoch 2, Batch 1100/1563, Loss: 0.0725\n",
      "  Epoch 2, Batch 1200/1563, Loss: 0.1683\n",
      "  Epoch 2, Batch 1300/1563, Loss: 0.0217\n",
      "  Epoch 2, Batch 1400/1563, Loss: 0.1492\n",
      "  Epoch 2, Batch 1500/1563, Loss: 0.1171\n",
      "Epoch 2 completed. Avg Train Loss: 0.1561, Train Acc: 94.16%\n",
      "  Epoch 3, Batch 0/1563, Loss: 0.0391\n",
      "  Epoch 3, Batch 100/1563, Loss: 0.1781\n",
      "  Epoch 3, Batch 200/1563, Loss: 0.0180\n",
      "  Epoch 3, Batch 300/1563, Loss: 0.1039\n",
      "  Epoch 3, Batch 400/1563, Loss: 0.0462\n",
      "  Epoch 3, Batch 500/1563, Loss: 0.0481\n",
      "  Epoch 3, Batch 600/1563, Loss: 0.0101\n",
      "  Epoch 3, Batch 700/1563, Loss: 0.0664\n",
      "  Epoch 3, Batch 800/1563, Loss: 0.0512\n",
      "  Epoch 3, Batch 900/1563, Loss: 0.0595\n",
      "  Epoch 3, Batch 1000/1563, Loss: 0.0209\n",
      "  Epoch 3, Batch 1100/1563, Loss: 0.1124\n",
      "  Epoch 3, Batch 1200/1563, Loss: 0.2605\n",
      "  Epoch 3, Batch 1300/1563, Loss: 0.0842\n",
      "  Epoch 3, Batch 1400/1563, Loss: 0.1583\n",
      "  Epoch 3, Batch 1500/1563, Loss: 0.0300\n",
      "Epoch 3 completed. Avg Train Loss: 0.0947, Train Acc: 96.96%\n",
      "--- BERT Fine-tuning Finished ---\n"
     ]
    }
   ],
   "source": [
    "num_epochs_bert = 3 # 预训练模型通常 2-4 个 Epoch 就能达到好效果\n",
    "\n",
    "print(\"\\n--- Starting BERT Fine-tuning ---\")\n",
    "\n",
    "for epoch in range(num_epochs_bert):\n",
    "    model.train()\n",
    "    total_loss = 0\n",
    "    correct_predictions = 0\n",
    "    total_samples = 0\n",
    "\n",
    "    for batch_idx, batch in enumerate(train_dataloader):\n",
    "        input_ids = batch['input_ids'].to(device)\n",
    "        attention_mask = batch['attention_mask'].to(device)\n",
    "        labels = batch['labels'].to(device)\n",
    "\n",
    "        optimizer.zero_grad()\n",
    "\n",
    "        # Hugging Face 模型的前向传播\n",
    "        # 返回一个字典，其中包含 loss 和 logits\n",
    "        outputs = model(input_ids=input_ids, attention_mask=attention_mask, labels=labels)\n",
    "        loss = outputs.loss\n",
    "        logits = outputs.logits # Logits 用于计算准确率\n",
    "\n",
    "        total_loss += loss.item()\n",
    "\n",
    "        loss.backward()\n",
    "        optimizer.step()\n",
    "        scheduler.step() # 学习率调度器更新\n",
    "\n",
    "        # 计算训练准确率\n",
    "        _, predicted = torch.max(logits, dim=1)\n",
    "        correct_predictions += (predicted == labels).sum().item()\n",
    "        total_samples += labels.size(0)\n",
    "\n",
    "        if batch_idx % 100 == 0: # 每 100 个批次打印一次进度\n",
    "            print(f\"  Epoch {epoch+1}, Batch {batch_idx}/{len(train_dataloader)}, Loss: {loss.item():.4f}\")\n",
    "\n",
    "    avg_train_loss = total_loss / len(train_dataloader)\n",
    "    train_accuracy = correct_predictions / total_samples * 100\n",
    "    print(f\"Epoch {epoch+1} completed. Avg Train Loss: {avg_train_loss:.4f}, Train Acc: {train_accuracy:.2f}%\")\n",
    "\n",
    "\n",
    "print(\"--- BERT Fine-tuning Finished ---\")\n"
   ]
  },
  {
   "cell_type": "markdown",
   "metadata": {},
   "source": [
    "### -------------------------------------------------------------\n",
    "### 阶段五：模型评估\n",
    "### -------------------------------------------------------------"
   ]
  },
  {
   "cell_type": "code",
   "execution_count": 10,
   "metadata": {},
   "outputs": [
    {
     "name": "stdout",
     "output_type": "stream",
     "text": [
      "\n",
      "--- Starting BERT Evaluation with Comprehensive Metrics ---\n",
      "Evaluation completed. Avg Test Loss: 0.2293\n",
      "Accuracy: 0.9210\n",
      "Precision: 0.9183\n",
      "Recall: 0.9241\n",
      "F1-Score: 0.9212\n",
      "--- BERT Evaluation Finished ---\n"
     ]
    },
    {
     "data": {
      "image/png": "[encoded data removed]",
      "text/plain": [
       "<Figure size 600x500 with 1 Axes>"
      ]
     },
     "metadata": {},
     "output_type": "display_data"
    }
   ],
   "source": [
    "from sklearn.metrics import accuracy_score, precision_recall_fscore_support, confusion_matrix\n",
    "import seaborn as sns # 用于绘制混淆矩阵\n",
    "import pandas as pd # 用于混淆矩阵的DataFrame\n",
    "\n",
    "print(\"\\n--- Starting BERT Evaluation with Comprehensive Metrics ---\")\n",
    "model.eval() \n",
    "all_labels = []\n",
    "all_preds = []\n",
    "total_eval_loss = 0\n",
    "\n",
    "with torch.no_grad():\n",
    "    for batch in test_dataloader:\n",
    "        input_ids = batch['input_ids'].to(device)\n",
    "        attention_mask = batch['attention_mask'].to(device)\n",
    "        labels = batch['labels'].to(device)\n",
    "\n",
    "        outputs = model(input_ids=input_ids, attention_mask=attention_mask, labels=labels)\n",
    "        loss = outputs.loss\n",
    "        logits = outputs.logits\n",
    "\n",
    "        total_eval_loss += loss.item()\n",
    "\n",
    "        _, predicted = torch.max(logits, dim=1)\n",
    "        \n",
    "        all_labels.extend(labels.cpu().numpy())\n",
    "        all_preds.extend(predicted.cpu().numpy())\n",
    "\n",
    "avg_eval_loss = total_eval_loss / len(test_dataloader)\n",
    "\n",
    "# 计算各项指标\n",
    "accuracy = accuracy_score(all_labels, all_preds)\n",
    "# precision_recall_fscore_support 默认会为每个类别计算，这里需要指定 average 参数\n",
    "# binary: 适用于二分类\n",
    "# macro: 简单平均每个类别的指标\n",
    "# weighted: 按每个类别样本数加权平均\n",
    "precision, recall, f1, _ = precision_recall_fscore_support(all_labels, all_preds, average='binary', pos_label=1) # positive label is 1\n",
    "\n",
    "print(f\"Evaluation completed. Avg Test Loss: {avg_eval_loss:.4f}\")\n",
    "print(f\"Accuracy: {accuracy:.4f}\")\n",
    "print(f\"Precision: {precision:.4f}\")\n",
    "print(f\"Recall: {recall:.4f}\")\n",
    "print(f\"F1-Score: {f1:.4f}\")\n",
    "print(\"--- BERT Evaluation Finished ---\")\n",
    "\n",
    "# 绘制混淆矩阵\n",
    "cm = confusion_matrix(all_labels, all_preds)\n",
    "cm_df = pd.DataFrame(cm, index=['Actual Negative', 'Actual Positive'], columns=['Predicted Negative', 'Predicted Positive'])\n",
    "# 打印 DataFrame 格式\n",
    "print(\"\\nConfusion Matrix (DataFrame):\")\n",
    "plt.figure(figsize=(6, 5))\n",
    "sns.heatmap(cm_df, annot=True, fmt='d', cmap='Blues', cbar=False)\n",
    "plt.title('Confusion Matrix')\n",
    "plt.xlabel('Predicted Label')\n",
    "plt.ylabel('True Label')\n",
    "plt.show()\n",
    "\n"
   ]
  },
  {
   "cell_type": "markdown",
   "metadata": {},
   "source": [
    "\n",
    "### -------------------------------------------------------------\n",
    "### 阶段六：模型保存与加载 (适配 Hugging Face 模型)\n",
    "### -------------------------------------------------------------\n",
    "\n",
    "### Hugging Face 模型的保存和加载与 torch.save 略有不同\n",
    "### 推荐使用其自带的 save_pretrained 和 from_pretrained 方法"
   ]
  },
  {
   "cell_type": "code",
   "execution_count": 11,
   "metadata": {},
   "outputs": [
    {
     "name": "stdout",
     "output_type": "stream",
     "text": [
      "\n",
      "Saving model to ../model_checkpoints/bert_imdb_sentiment\n",
      "Model saved.\n",
      "\n",
      "Loading model from ../model_checkpoints/bert_imdb_sentiment\n",
      "Loaded Model Evaluation. Avg Test Loss: 0.2293\n",
      "Accuracy: 0.9210\n",
      "Precision: 0.9183\n",
      "Recall: 0.9241\n",
      "F1-Score: 0.9212\n"
     ]
    }
   ],
   "source": [
    "output_dir = '../model_checkpoints/bert_imdb_sentiment'\n",
    "os.makedirs(output_dir, exist_ok=True)\n",
    "\n",
    "print(f\"\\nSaving model to {output_dir}\")\n",
    "model.save_pretrained(output_dir)\n",
    "tokenizer.save_pretrained(output_dir) # 也要保存分词器，因为它的词汇表和模型是配套的\n",
    "print(\"Model saved.\")\n",
    "\n",
    "# 加载模型示例\n",
    "print(f\"\\nLoading model from {output_dir}\")\n",
    "loaded_model = BertForSequenceClassification.from_pretrained(output_dir)\n",
    "loaded_tokenizer = BertTokenizer.from_pretrained(output_dir)\n",
    "loaded_model = loaded_model.to(device)\n",
    "loaded_model.eval()\n",
    "\n",
    "# 再次评估加载后的模型\n",
    "loaded_all_labels = []\n",
    "loaded_all_preds = []\n",
    "loaded_total_eval_loss = 0\n",
    "with torch.no_grad():\n",
    "    for batch in test_dataloader:\n",
    "        input_ids = batch['input_ids'].to(device)\n",
    "        attention_mask = batch['attention_mask'].to(device)\n",
    "        labels = batch['labels'].to(device)\n",
    "\n",
    "        outputs = loaded_model(input_ids=input_ids, attention_mask=attention_mask, labels=labels)\n",
    "        loss = outputs.loss\n",
    "        logits = outputs.logits\n",
    "\n",
    "        loaded_total_eval_loss += loss.item()\n",
    "\n",
    "        _, predicted = torch.max(logits, dim=1)\n",
    "        \n",
    "        loaded_all_labels.extend(labels.cpu().numpy())\n",
    "        loaded_all_preds.extend(predicted.cpu().numpy())\n",
    "\n",
    "loaded_avg_eval_loss = loaded_total_eval_loss / len(test_dataloader)\n",
    "loaded_accuracy = accuracy_score(loaded_all_labels, loaded_all_preds)\n",
    "loaded_precision, loaded_recall, loaded_f1, _ = precision_recall_fscore_support(loaded_all_labels, loaded_all_preds, average='binary', pos_label=1)\n",
    "\n",
    "print(f\"Loaded Model Evaluation. Avg Test Loss: {loaded_avg_eval_loss:.4f}\")\n",
    "print(f\"Accuracy: {loaded_accuracy:.4f}\")\n",
    "print(f\"Precision: {loaded_precision:.4f}\")\n",
    "print(f\"Recall: {loaded_recall:.4f}\")\n",
    "print(f\"F1-Score: {loaded_f1:.4f}\")"
   ]
  },
  {
   "cell_type": "code",
   "execution_count": null,
   "metadata": {},
   "outputs": [],
   "source": []
  }
 ],
 "metadata": {
  "kernelspec": {
   "display_name": "pytorch_env_1",
   "language": "python",
   "name": "python3"
  },
  "language_info": {
   "codemirror_mode": {
    "name": "ipython",
    "version": 3
   },
   "file_extension": ".py",
   "mimetype": "text/x-python",
   "name": "python",
   "nbconvert_exporter": "python",
   "pygments_lexer": "ipython3",
   "version": "3.10.16"
  }
 },
 "nbformat": 4,
 "nbformat_minor": 4
}
